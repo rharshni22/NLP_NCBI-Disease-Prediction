{
  "cells": [
    {
      "cell_type": "code",
      "execution_count": null,
      "metadata": {
        "id": "N7adiwUCqG1h"
      },
      "outputs": [],
      "source": [
        "import pandas as pd\n",
        "import numpy as np\n",
        "\n",
        "data = pd.read_csv(\"C:/Users/Dell/Documents/ncbi_train_v2.csv\", encoding=\"latin1\")\n"
      ]
    },
    {
      "cell_type": "code",
      "execution_count": null,
      "metadata": {
        "id": "65ucquujqG1i"
      },
      "outputs": [],
      "source": [
        "data = data.fillna(method=\"ffill\")\n"
      ]
    },
    {
      "cell_type": "code",
      "execution_count": null,
      "metadata": {
        "id": "_v-jDmt_qG1j",
        "outputId": "6a7cef5c-7f9d-4bee-8a38-ae39fe4bcf94"
      },
      "outputs": [
        {
          "data": {
            "text/html": [
              "<div>\n",
              "<style scoped>\n",
              "    .dataframe tbody tr th:only-of-type {\n",
              "        vertical-align: middle;\n",
              "    }\n",
              "\n",
              "    .dataframe tbody tr th {\n",
              "        vertical-align: top;\n",
              "    }\n",
              "\n",
              "    .dataframe thead th {\n",
              "        text-align: right;\n",
              "    }\n",
              "</style>\n",
              "<table border=\"1\" class=\"dataframe\">\n",
              "  <thead>\n",
              "    <tr style=\"text-align: right;\">\n",
              "      <th></th>\n",
              "      <th>Sentence</th>\n",
              "      <th>Word</th>\n",
              "      <th>Tag</th>\n",
              "    </tr>\n",
              "  </thead>\n",
              "  <tbody>\n",
              "    <tr>\n",
              "      <th>0</th>\n",
              "      <td>Sentence:1</td>\n",
              "      <td>Selegiline</td>\n",
              "      <td>O</td>\n",
              "    </tr>\n",
              "    <tr>\n",
              "      <th>1</th>\n",
              "      <td>Sentence:1</td>\n",
              "      <td>-</td>\n",
              "      <td>O</td>\n",
              "    </tr>\n",
              "    <tr>\n",
              "      <th>2</th>\n",
              "      <td>Sentence:1</td>\n",
              "      <td>induced</td>\n",
              "      <td>O</td>\n",
              "    </tr>\n",
              "    <tr>\n",
              "      <th>3</th>\n",
              "      <td>Sentence:1</td>\n",
              "      <td>postural</td>\n",
              "      <td>B-Disease</td>\n",
              "    </tr>\n",
              "    <tr>\n",
              "      <th>4</th>\n",
              "      <td>Sentence:1</td>\n",
              "      <td>hypotension</td>\n",
              "      <td>E-Disease</td>\n",
              "    </tr>\n",
              "    <tr>\n",
              "      <th>5</th>\n",
              "      <td>Sentence:1</td>\n",
              "      <td>in</td>\n",
              "      <td>O</td>\n",
              "    </tr>\n",
              "    <tr>\n",
              "      <th>6</th>\n",
              "      <td>Sentence:1</td>\n",
              "      <td>Parkinson</td>\n",
              "      <td>B-Disease</td>\n",
              "    </tr>\n",
              "    <tr>\n",
              "      <th>7</th>\n",
              "      <td>Sentence:1</td>\n",
              "      <td>'</td>\n",
              "      <td>I-Disease</td>\n",
              "    </tr>\n",
              "    <tr>\n",
              "      <th>8</th>\n",
              "      <td>Sentence:1</td>\n",
              "      <td>s</td>\n",
              "      <td>I-Disease</td>\n",
              "    </tr>\n",
              "    <tr>\n",
              "      <th>9</th>\n",
              "      <td>Sentence:1</td>\n",
              "      <td>disease</td>\n",
              "      <td>E-Disease</td>\n",
              "    </tr>\n",
              "  </tbody>\n",
              "</table>\n",
              "</div>"
            ],
            "text/plain": [
              "     Sentence         Word        Tag\n",
              "0  Sentence:1   Selegiline          O\n",
              "1  Sentence:1            -          O\n",
              "2  Sentence:1      induced          O\n",
              "3  Sentence:1     postural  B-Disease\n",
              "4  Sentence:1  hypotension  E-Disease\n",
              "5  Sentence:1           in          O\n",
              "6  Sentence:1    Parkinson  B-Disease\n",
              "7  Sentence:1            '  I-Disease\n",
              "8  Sentence:1            s  I-Disease\n",
              "9  Sentence:1      disease  E-Disease"
            ]
          },
          "execution_count": 3,
          "metadata": {},
          "output_type": "execute_result"
        }
      ],
      "source": [
        "data.head(10)\n"
      ]
    },
    {
      "cell_type": "code",
      "execution_count": null,
      "metadata": {
        "id": "5hNwJdLYqG1j",
        "outputId": "1aeaceaa-a921-4f93-ddac-67f2d596bc3a"
      },
      "outputs": [
        {
          "data": {
            "text/plain": [
              "9566"
            ]
          },
          "execution_count": 4,
          "metadata": {},
          "output_type": "execute_result"
        }
      ],
      "source": [
        "words = list(set(data[\"Word\"].values))\n",
        "words.append(\"ENDPAD\")\n",
        "n_words = len(words); n_words\n"
      ]
    },
    {
      "cell_type": "code",
      "execution_count": null,
      "metadata": {
        "id": "UiGZrwuNqG1j",
        "outputId": "3cfe8fdb-5771-4296-be38-f930455fe897"
      },
      "outputs": [
        {
          "data": {
            "text/plain": [
              "['O', 'E-Disease', 'I-Disease', 'S-Disease', 'B-Disease']"
            ]
          },
          "execution_count": 5,
          "metadata": {},
          "output_type": "execute_result"
        }
      ],
      "source": [
        "tags = list(set(data[\"Tag\"].values))\n",
        "n_tags = len(tags); n_tags\n",
        "\n",
        "tags"
      ]
    },
    {
      "cell_type": "code",
      "execution_count": null,
      "metadata": {
        "id": "NqWeitJEqG1k"
      },
      "outputs": [],
      "source": [
        "class SentenceGetter(object):\n",
        "\n",
        "    def __init__(self, data):\n",
        "        self.n_sent = 1\n",
        "        self.data = data\n",
        "        self.empty = False\n",
        "        agg_func = lambda s: [(w,t) for w, t in zip(s[\"Word\"].values.tolist(),\n",
        "                                                           s[\"Tag\"].values.tolist())]\n",
        "        self.grouped = self.data.groupby(\"Sentence\").apply(agg_func)\n",
        "        self.sentences = [s for s in self.grouped]\n",
        "\n",
        "    def get_next(self):\n",
        "        try:\n",
        "            s = self.grouped[\"Sentence:{}\".format(self.n_sent)]\n",
        "            self.n_sent += 1\n",
        "            return s\n",
        "        except:\n",
        "            return None\n"
      ]
    },
    {
      "cell_type": "code",
      "execution_count": null,
      "metadata": {
        "id": "Q7Ft29f_qG1k"
      },
      "outputs": [],
      "source": [
        "getter = SentenceGetter(data)\n"
      ]
    },
    {
      "cell_type": "code",
      "execution_count": null,
      "metadata": {
        "id": "pxfeT3oSqG1k"
      },
      "outputs": [],
      "source": [
        "sent = getter.get_next()\n"
      ]
    },
    {
      "cell_type": "code",
      "execution_count": null,
      "metadata": {
        "id": "GAK8b64sqG1k",
        "outputId": "79e03439-a0de-40e3-fb71-f15668a2278f"
      },
      "outputs": [
        {
          "name": "stdout",
          "output_type": "stream",
          "text": [
            "[('Selegiline', 'O'), ('-', 'O'), ('induced', 'O'), ('postural', 'B-Disease'), ('hypotension', 'E-Disease'), ('in', 'O'), ('Parkinson', 'B-Disease'), (\"'\", 'I-Disease'), ('s', 'I-Disease'), ('disease', 'E-Disease'), (':', 'O'), ('a', 'O'), ('longitudinal', 'O'), ('study', 'O'), ('on', 'O'), ('the', 'O'), ('effects', 'O'), ('of', 'O'), ('drug', 'O'), ('withdrawal', 'O'), ('.', 'O'), ('.', 'O')]\n"
          ]
        }
      ],
      "source": [
        "print(sent)\n"
      ]
    },
    {
      "cell_type": "code",
      "execution_count": null,
      "metadata": {
        "id": "Y3KGRI-gqG1k"
      },
      "outputs": [],
      "source": [
        "sentences = getter.sentences\n",
        "\n"
      ]
    },
    {
      "cell_type": "code",
      "execution_count": null,
      "metadata": {
        "id": "JXtCnLvKqG1k"
      },
      "outputs": [],
      "source": [
        "max_len = 75\n",
        "max_len_char = 10\n",
        "\n",
        "word2idx = {w: i + 1 for i, w in enumerate(words)}\n",
        "tag2idx = {t: i for i, t in enumerate(tags)}\n"
      ]
    },
    {
      "cell_type": "code",
      "execution_count": null,
      "metadata": {
        "id": "iU4nPOTkqG1l",
        "outputId": "80d19df2-1a1a-4f45-9fad-efbbf4e2f2c3"
      },
      "outputs": [
        {
          "name": "stderr",
          "output_type": "stream",
          "text": [
            "Using TensorFlow backend.\n"
          ]
        }
      ],
      "source": [
        "from keras.preprocessing.sequence import pad_sequences\n",
        "X = [[word2idx[w[0]] for w in s] for s in sentences]\n"
      ]
    },
    {
      "cell_type": "code",
      "execution_count": null,
      "metadata": {
        "id": "1BM-j4wpqG1l",
        "outputId": "182879c4-cf5e-4e78-b6b1-f3a76e2106f2"
      },
      "outputs": [
        {
          "data": {
            "text/plain": [
              "array([[3672, 4507, 1854, ...,    0,    0,    0],\n",
              "       [5273, 3440, 4074, ...,    0,    0,    0],\n",
              "       [9419, 8681, 3560, ...,    0,    0,    0],\n",
              "       ...,\n",
              "       [5073, 9165, 9298, ...,    0,    0,    0],\n",
              "       [5359, 7694, 3816, ...,    0,    0,    0],\n",
              "       [2839, 5921, 7236, ...,    0,    0,    0]])"
            ]
          },
          "execution_count": 13,
          "metadata": {},
          "output_type": "execute_result"
        }
      ],
      "source": [
        "X = pad_sequences(maxlen=max_len, sequences=X, padding=\"post\", value=0)\n",
        "X"
      ]
    },
    {
      "cell_type": "code",
      "execution_count": null,
      "metadata": {
        "id": "wQOPQN7yqG1l"
      },
      "outputs": [],
      "source": [
        "y = [[tag2idx[w[1]] for w in s] for s in sentences]\n"
      ]
    },
    {
      "cell_type": "code",
      "execution_count": null,
      "metadata": {
        "id": "0l-sg0IWqG1l"
      },
      "outputs": [],
      "source": [
        "y = pad_sequences(maxlen=max_len, sequences=y, padding=\"post\", value=tag2idx[\"O\"])\n"
      ]
    },
    {
      "cell_type": "code",
      "execution_count": null,
      "metadata": {
        "id": "i0ngLsJxqG1l"
      },
      "outputs": [],
      "source": [
        "from keras.utils import to_categorical\n"
      ]
    },
    {
      "cell_type": "code",
      "execution_count": null,
      "metadata": {
        "id": "Joc4ngXkqG1l"
      },
      "outputs": [],
      "source": [
        "y = [to_categorical(i, num_classes=n_tags) for i in y]\n"
      ]
    },
    {
      "cell_type": "code",
      "execution_count": null,
      "metadata": {
        "id": "ARLx8d7JqG1l"
      },
      "outputs": [],
      "source": [
        "from sklearn.model_selection import train_test_split\n"
      ]
    },
    {
      "cell_type": "code",
      "execution_count": null,
      "metadata": {
        "id": "S7gLp975qG1l"
      },
      "outputs": [],
      "source": [
        "X_tr, X_te, y_tr, y_te = train_test_split(X, y, test_size=0.1)\n"
      ]
    },
    {
      "cell_type": "code",
      "execution_count": null,
      "metadata": {
        "id": "lhSLrjMuqG1l"
      },
      "outputs": [],
      "source": [
        "from keras.models import Model, Input\n",
        "from keras.layers import LSTM, Embedding, Dense, TimeDistributed, Dropout, Bidirectional\n",
        "from keras_contrib.layers import CRF\n"
      ]
    },
    {
      "cell_type": "code",
      "execution_count": null,
      "metadata": {
        "id": "wyI4eVU7qG1l"
      },
      "outputs": [],
      "source": [
        "input = Input(shape=(max_len,))\n",
        "model = Embedding(input_dim=n_words + 1, output_dim=20,\n",
        "                  input_length=max_len)(input)  # 20-dim embedding\n",
        "model = Bidirectional(LSTM(units=50, return_sequences=True,\n",
        "                           recurrent_dropout=0.1))(model)  # variational biLSTM\n",
        "model = TimeDistributed(Dense(50, activation=\"relu\"))(model)  # a dense layer as suggested by neuralNer\n",
        "crf = CRF(n_tags)  # CRF layer\n",
        "out = crf(model)  # output\n"
      ]
    },
    {
      "cell_type": "code",
      "execution_count": null,
      "metadata": {
        "id": "Kuv3turAqG1l"
      },
      "outputs": [],
      "source": [
        "model = Model(input, out)\n"
      ]
    },
    {
      "cell_type": "code",
      "execution_count": null,
      "metadata": {
        "id": "kSgv8__qqG1m",
        "outputId": "e73ccc95-0f23-4d63-d710-e0bfcb9f5a81"
      },
      "outputs": [
        {
          "name": "stderr",
          "output_type": "stream",
          "text": [
            "C:\\Users\\Dell\\Anaconda3\\lib\\site-packages\\keras_contrib\\layers\\crf.py:346: UserWarning: CRF.loss_function is deprecated and it might be removed in the future. Please use losses.crf_loss instead.\n",
            "  warnings.warn('CRF.loss_function is deprecated '\n",
            "C:\\Users\\Dell\\Anaconda3\\lib\\site-packages\\keras_contrib\\layers\\crf.py:353: UserWarning: CRF.accuracy is deprecated and it might be removed in the future. Please use metrics.crf_accuracy\n",
            "  warnings.warn('CRF.accuracy is deprecated and it '\n"
          ]
        },
        {
          "name": "stdout",
          "output_type": "stream",
          "text": [
            "WARNING:tensorflow:From C:\\Users\\Dell\\Anaconda3\\lib\\site-packages\\tensorflow\\python\\ops\\math_ops.py:2403: add_dispatch_support.<locals>.wrapper (from tensorflow.python.ops.array_ops) is deprecated and will be removed in a future version.\n",
            "Instructions for updating:\n",
            "Use tf.where in 2.0, which has the same broadcast rule as np.where\n"
          ]
        }
      ],
      "source": [
        "model.compile(optimizer=\"rmsprop\", loss=crf.loss_function, metrics=[crf.accuracy])\n"
      ]
    },
    {
      "cell_type": "code",
      "execution_count": null,
      "metadata": {
        "id": "9ANsceUZqG1m",
        "outputId": "4ffe1524-530f-4537-cd13-5f98ace6d66a"
      },
      "outputs": [
        {
          "name": "stdout",
          "output_type": "stream",
          "text": [
            "(3831, 75)\n",
            "(3831, 75, 1)\n",
            "WARNING:tensorflow:From C:\\Users\\Dell\\Anaconda3\\lib\\site-packages\\keras\\backend\\tensorflow_backend.py:422: The name tf.global_variables is deprecated. Please use tf.compat.v1.global_variables instead.\n",
            "\n",
            "Train on 3447 samples, validate on 384 samples\n",
            "Epoch 1/5\n",
            "3447/3447 [==============================] - 18s 5ms/step - loss: 0.1699 - crf_viterbi_accuracy: 0.9682 - val_loss: 0.1065 - val_crf_viterbi_accuracy: 0.9799\n",
            "Epoch 2/5\n",
            "3447/3447 [==============================] - 14s 4ms/step - loss: 0.0882 - crf_viterbi_accuracy: 0.9799 - val_loss: 0.0737 - val_crf_viterbi_accuracy: 0.9823\n",
            "Epoch 3/5\n",
            "3447/3447 [==============================] - 14s 4ms/step - loss: 0.0578 - crf_viterbi_accuracy: 0.9839 - val_loss: 0.0557 - val_crf_viterbi_accuracy: 0.9864\n",
            "Epoch 4/5\n",
            "3447/3447 [==============================] - 14s 4ms/step - loss: 0.0422 - crf_viterbi_accuracy: 0.9882 - val_loss: 0.0475 - val_crf_viterbi_accuracy: 0.9883\n",
            "Epoch 5/5\n",
            "3447/3447 [==============================] - 13s 4ms/step - loss: 0.0319 - crf_viterbi_accuracy: 0.9907 - val_loss: 0.0407 - val_crf_viterbi_accuracy: 0.9903\n"
          ]
        }
      ],
      "source": [
        "print(X_tr.shape)\n",
        "x_train = X_tr\n",
        "y_train = y_tr\n",
        "x_train=x_train.reshape(x_train.shape[0],x_train.shape[1],1)\n",
        "#y_train=y_train.reshape(y_train.shape[0],y_train.shape[1],1)\n",
        "print(x_train.shape) #y_train.shape)\n",
        "\n",
        "history = model.fit(X_tr, np.array(y_tr), batch_size=32, epochs=5,validation_split=0.1, verbose=1)\n",
        "\n"
      ]
    },
    {
      "cell_type": "code",
      "execution_count": null,
      "metadata": {
        "id": "21F9Z127qG1m"
      },
      "outputs": [],
      "source": [
        "hist = pd.DataFrame(history.history)\n"
      ]
    },
    {
      "cell_type": "code",
      "execution_count": null,
      "metadata": {
        "id": "O-dwMfErqG1m"
      },
      "outputs": [],
      "source": [
        "from seqeval.metrics import precision_score, recall_score, f1_score, classification_report"
      ]
    },
    {
      "cell_type": "code",
      "execution_count": null,
      "metadata": {
        "id": "E-IGzfpyqG1m",
        "outputId": "39bf9551-6d53-410b-a2ad-39015fe6386e"
      },
      "outputs": [
        {
          "name": "stdout",
          "output_type": "stream",
          "text": [
            "426/426 [==============================] - 1s 2ms/step\n"
          ]
        }
      ],
      "source": [
        "test_pred = model.predict(X_te, verbose=1)\n",
        "\n"
      ]
    },
    {
      "cell_type": "code",
      "execution_count": null,
      "metadata": {
        "id": "Q-cLUJR5qG1m"
      },
      "outputs": [],
      "source": [
        "idx2tag = {i: w for w, i in tag2idx.items()}\n",
        "\n",
        "def pred2label(pred):\n",
        "    out = []\n",
        "    for pred_i in pred:\n",
        "        out_i = []\n",
        "        for p in pred_i:\n",
        "            p_i = np.argmax(p)\n",
        "            out_i.append(idx2tag[p_i].replace(\"PAD\", \"O\"))\n",
        "        out.append(out_i)\n",
        "    return out\n",
        "\n",
        "pred_labels = pred2label(test_pred)\n",
        "test_labels = pred2label(y_te)"
      ]
    },
    {
      "cell_type": "code",
      "execution_count": null,
      "metadata": {
        "id": "wgC98xwZqG1m",
        "outputId": "7f774626-60ac-4fa4-e0f7-20c46f52efad"
      },
      "outputs": [
        {
          "name": "stdout",
          "output_type": "stream",
          "text": [
            "F1-score: 65.4%\n"
          ]
        }
      ],
      "source": [
        "print(\"F1-score: {:.1%}\".format(f1_score(test_labels, pred_labels)))\n"
      ]
    },
    {
      "cell_type": "code",
      "execution_count": null,
      "metadata": {
        "id": "ZBpM2-J2qG1n",
        "outputId": "484fd6d6-70b7-40d5-f74d-8c9b4079a84d"
      },
      "outputs": [
        {
          "name": "stdout",
          "output_type": "stream",
          "text": [
            "           precision    recall  f1-score   support\n",
            "\n",
            "  Disease       0.68      0.63      0.65       395\n",
            "\n",
            "micro avg       0.68      0.63      0.65       395\n",
            "macro avg       0.68      0.63      0.65       395\n",
            "\n"
          ]
        }
      ],
      "source": [
        "print(classification_report(test_labels, pred_labels))\n"
      ]
    },
    {
      "cell_type": "code",
      "execution_count": null,
      "metadata": {
        "id": "AAVrbs3UqG1n",
        "outputId": "a3b47056-8c6c-4098-91aa-a0d507026d27"
      },
      "outputs": [
        {
          "name": "stdout",
          "output_type": "stream",
          "text": [
            "Word           ||True ||Pred\n",
            "==============================\n",
            "Doxorubicin              : O     O\n",
            "is                       : O     O\n",
            "an                       : O     O\n",
            "effective                : O     O\n",
            "anticancer               : O     O\n",
            "chemotherapeutic         : O     O\n",
            "agent                    : O     O\n",
            "known                    : O     O\n",
            "to                       : O     O\n",
            "cause                    : O     O\n",
            "acute                    : O     O\n",
            "and                      : O     O\n",
            "chronic                  : O     B-Disease\n",
            "cardiomyopathy           : S-Disease E-Disease\n",
            ".                        : O     O\n",
            ".                        : O     O\n"
          ]
        }
      ],
      "source": [
        "i = 2345\n",
        "p = model.predict(np.array([X_tr[i]]))\n",
        "p = np.argmax(p, axis=-1)\n",
        "true = np.argmax(y_tr[i], -1)\n",
        "print(\"{:15}||{:5}||{}\".format(\"Word\", \"True\", \"Pred\"))\n",
        "print(30 * \"=\")\n",
        "for w, t, pred in zip(X_tr[i], true, p[0]):\n",
        "    if w != 0:\n",
        "        print(\"{:25}: {:5} {}\".format(words[w-1], tags[t], tags[pred]))\n"
      ]
    },
    {
      "cell_type": "code",
      "execution_count": null,
      "metadata": {
        "id": "9slzOcJ6qG1n"
      },
      "outputs": [],
      "source": []
    }
  ],
  "metadata": {
    "kernelspec": {
      "display_name": "Python 3",
      "language": "python",
      "name": "python3"
    },
    "language_info": {
      "codemirror_mode": {
        "name": "ipython",
        "version": 3
      },
      "file_extension": ".py",
      "mimetype": "text/x-python",
      "name": "python",
      "nbconvert_exporter": "python",
      "pygments_lexer": "ipython3",
      "version": "3.7.3"
    },
    "colab": {
      "provenance": []
    }
  },
  "nbformat": 4,
  "nbformat_minor": 0
}